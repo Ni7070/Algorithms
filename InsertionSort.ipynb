{
  "nbformat": 4,
  "nbformat_minor": 0,
  "metadata": {
    "colab": {
      "name": "InsertionSort.ipynb",
      "provenance": [],
      "authorship_tag": "ABX9TyNdC2I+VlvBQhprz/0YIUxl",
      "include_colab_link": true
    },
    "kernelspec": {
      "name": "python3",
      "display_name": "Python 3"
    },
    "language_info": {
      "name": "python"
    }
  },
  "cells": [
    {
      "cell_type": "markdown",
      "metadata": {
        "id": "view-in-github",
        "colab_type": "text"
      },
      "source": [
        "<a href=\"https://colab.research.google.com/github/Ni7070/Algorithms/blob/master/InsertionSort.ipynb\" target=\"_parent\"><img src=\"https://colab.research.google.com/assets/colab-badge.svg\" alt=\"Open In Colab\"/></a>"
      ]
    },
    {
      "cell_type": "markdown",
      "metadata": {
        "id": "F0xC5etR9VQ1"
      },
      "source": [
        "**Insertion Sort**\n",
        "\n",
        "\n",
        "\n",
        "```\n",
        "i ← 1\n",
        "while i < length(A)\n",
        "    j ← i\n",
        "    while j > 0 and A[j-1] > A[j]\n",
        "        swap A[j] and A[j-1]\n",
        "        j ← j - 1\n",
        "    end while\n",
        "    i ← i + 1\n",
        "end while\n",
        "```\n",
        "\n"
      ]
    },
    {
      "cell_type": "code",
      "metadata": {
        "colab": {
          "base_uri": "https://localhost:8080/"
        },
        "id": "Kxy354Pu8ilf",
        "outputId": "b06dbda5-5ccc-42a5-82d2-5c2fb51861ad"
      },
      "source": [
        "def InsertionSort(A):\n",
        "  for i in  range(1, len(A)):\n",
        "    value = A[i]\n",
        "    hole = i\n",
        "    while hole>0 and A[hole-1]>value:\n",
        "      A[hole] = A[hole-1]\n",
        "      hole = hole-1\n",
        "    A[hole] = value\n",
        "    print(\"Iterations:\", A)\n",
        "  print(\"Output: \", A)\n",
        "if __name__ == '__main__':\n",
        "    Array = [7, 2, 4, 1, 5, 3]\n",
        "    print(\"Insertion Sorted: \")\n",
        "    InsertionSort(Array)"
      ],
      "execution_count": 6,
      "outputs": [
        {
          "output_type": "stream",
          "text": [
            "Insertion Sorted: \n",
            "Iterations: [2, 7, 4, 1, 5, 3]\n",
            "Iterations: [2, 4, 7, 1, 5, 3]\n",
            "Iterations: [1, 2, 4, 7, 5, 3]\n",
            "Iterations: [1, 2, 4, 5, 7, 3]\n",
            "Iterations: [1, 2, 3, 4, 5, 7]\n",
            "Output:  [1, 2, 3, 4, 5, 7]\n"
          ],
          "name": "stdout"
        }
      ]
    }
  ]
}