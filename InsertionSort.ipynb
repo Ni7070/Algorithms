{
  "nbformat": 4,
  "nbformat_minor": 0,
  "metadata": {
    "colab": {
      "name": "InsertionSort.ipynb",
      "provenance": [],
      "authorship_tag": "ABX9TyNfMWwM3ytow8nfZ41UKxp0",
      "include_colab_link": true
    },
    "kernelspec": {
      "name": "python3",
      "display_name": "Python 3"
    },
    "language_info": {
      "name": "python"
    }
  },
  "cells": [
    {
      "cell_type": "markdown",
      "metadata": {
        "id": "view-in-github",
        "colab_type": "text"
      },
      "source": [
        "<a href=\"https://colab.research.google.com/github/Ni7070/Algorithms/blob/master/InsertionSort.ipynb\" target=\"_parent\"><img src=\"https://colab.research.google.com/assets/colab-badge.svg\" alt=\"Open In Colab\"/></a>"
      ]
    },
    {
      "cell_type": "markdown",
      "metadata": {
        "id": "bOphSo7zChUF"
      },
      "source": [
        "**Insertion Sort**\n",
        "`Insertion sort works by inserting elements from an unsorted array into a sorted subsection of the array, one item at a time.`\n",
        "\n",
        "> **USES:**\n",
        ">>Used in sorting Poker, Go cards.<br>\n",
        ">> small list.<br>\n",
        ">> sorting \"almost sorted\" lists.<br>\n",
        "\n",
        "\n",
        "> **STRENGTHS:**\n",
        ">>Space efficient.<br>\n",
        ">>Fast on sorted arrays<br>\n",
        ">>Efficient for small data<br>\n",
        "\n",
        "\n",
        "\n",
        "> **WEAKNESS:**\n",
        "\n",
        "\n",
        "\n",
        ">>Slow\n",
        "\n",
        "**COMPLEXITY**\n",
        "\n",
        "| Case        | When|Complexity  |\n",
        "| :-----------: | :---------: | :-----------: |\n",
        "|Worst Case   |Array is already sorted| $O(n^2)$    |\n",
        "|Best Case    |Array is reversely sorted| $O(n)$       |\n",
        "|Average Case |Some sorted, some unsorted|   $O(n^2)$  |\n",
        "|Space        |Uses 1 input array|  $O(1)$     |\n",
        "\n",
        "**Working Principle**\n",
        "\n",
        "* Compare the element with its adjacent element.\n",
        "* If at every comparison, we could find a position in sorted array where the element can be inserted, then create space by shifting the elements to right and insert the element at the appropriate position.\n",
        "* Repeat the above steps until you place the last element of unsorted array to its correct position.\n",
        "\n",
        "\n",
        "\n",
        "`ALGORITHM`\n",
        "\n",
        "\n",
        "\n",
        "```\n",
        "i ← 1\n",
        "while i < length(A)\n",
        "    j ← i\n",
        "    while j > 0 and A[j-1] > A[j]\n",
        "        swap A[j] and A[j-1]\n",
        "        j ← j - 1\n",
        "    end while\n",
        "    i ← i + 1\n",
        "end while\n",
        "```\n",
        "\n",
        "\n",
        "\n"
      ]
    },
    {
      "cell_type": "markdown",
      "metadata": {
        "id": "F0xC5etR9VQ1"
      },
      "source": [
        "\n"
      ]
    },
    {
      "cell_type": "code",
      "metadata": {
        "colab": {
          "base_uri": "https://localhost:8080/"
        },
        "id": "Kxy354Pu8ilf",
        "outputId": "b06dbda5-5ccc-42a5-82d2-5c2fb51861ad"
      },
      "source": [
        "def InsertionSort(A):\n",
        "  for i in  range(1, len(A)):\n",
        "    value = A[i]\n",
        "    hole = i\n",
        "    while hole>0 and A[hole-1]>value:\n",
        "      A[hole] = A[hole-1]\n",
        "      hole = hole-1\n",
        "    A[hole] = value\n",
        "    print(\"Iterations:\", A)\n",
        "  print(\"Output: \", A)\n",
        "if __name__ == '__main__':\n",
        "    Array = [7, 2, 4, 1, 5, 3]\n",
        "    print(\"Insertion Sorted: \")\n",
        "    InsertionSort(Array)"
      ],
      "execution_count": null,
      "outputs": [
        {
          "output_type": "stream",
          "text": [
            "Insertion Sorted: \n",
            "Iterations: [2, 7, 4, 1, 5, 3]\n",
            "Iterations: [2, 4, 7, 1, 5, 3]\n",
            "Iterations: [1, 2, 4, 7, 5, 3]\n",
            "Iterations: [1, 2, 4, 5, 7, 3]\n",
            "Iterations: [1, 2, 3, 4, 5, 7]\n",
            "Output:  [1, 2, 3, 4, 5, 7]\n"
          ],
          "name": "stdout"
        }
      ]
    }
  ]
}