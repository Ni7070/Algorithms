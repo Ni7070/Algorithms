{
  "nbformat": 4,
  "nbformat_minor": 0,
  "metadata": {
    "colab": {
      "name": "Djkstra's shortest path.ipynb",
      "provenance": [],
      "authorship_tag": "ABX9TyO8Hc9kkLf0egQi7dGlL2RU",
      "include_colab_link": true
    },
    "kernelspec": {
      "name": "python3",
      "display_name": "Python 3"
    },
    "language_info": {
      "name": "python"
    }
  },
  "cells": [
    {
      "cell_type": "markdown",
      "metadata": {
        "id": "view-in-github",
        "colab_type": "text"
      },
      "source": [
        "<a href=\"https://colab.research.google.com/github/Ni7070/Algorithms/blob/master/Djkstra's_shortest_path.ipynb\" target=\"_parent\"><img src=\"https://colab.research.google.com/assets/colab-badge.svg\" alt=\"Open In Colab\"/></a>"
      ]
    },
    {
      "cell_type": "code",
      "metadata": {
        "colab": {
          "base_uri": "https://localhost:8080/"
        },
        "id": "4k_DIoC1Di1W",
        "outputId": "d943297c-a687-4e19-e715-ab45f486430a"
      },
      "source": [
        "import heapq\n",
        "\n",
        "\n",
        "def calculate_distances(graph, starting_vertex):\n",
        "    distances = {vertex: float('infinity') for vertex in graph}\n",
        "    distances[starting_vertex] = 0\n",
        "\n",
        "    pq = [(0, starting_vertex)]\n",
        "    while len(pq) > 0:\n",
        "        current_distance, current_vertex = heapq.heappop(pq)\n",
        "\n",
        "        # Nodes can get added to the priority queue multiple times. We only\n",
        "        # process a vertex the first time we remove it from the priority queue.\n",
        "        if current_distance > distances[current_vertex]:\n",
        "            continue\n",
        "\n",
        "        for neighbor, weight in graph[current_vertex].items():\n",
        "            distance = current_distance + weight\n",
        "\n",
        "            # Only consider this new path if it's better than any path we've\n",
        "            # already found.\n",
        "            if distance < distances[neighbor]:\n",
        "                distances[neighbor] = distance\n",
        "                heapq.heappush(pq, (distance, neighbor))\n",
        "\n",
        "    return distances\n",
        "\n",
        "\n",
        "example_graph = {\n",
        "    'U': {'V': 2, 'W': 5, 'X': 1},\n",
        "    'V': {'U': 2, 'X': 2, 'W': 3},\n",
        "    'W': {'V': 3, 'U': 5, 'X': 3, 'Y': 1, 'Z': 5},\n",
        "    'X': {'U': 1, 'V': 2, 'W': 3, 'Y': 1},\n",
        "    'Y': {'X': 1, 'W': 1, 'Z': 1},\n",
        "    'Z': {'W': 5, 'Y': 1},\n",
        "}\n",
        "print(calculate_distances(example_graph, 'X'))\n",
        "# => {'U': 1, 'W': 2, 'V': 2, 'Y': 1, 'X': 0, 'Z': 2}"
      ],
      "execution_count": 1,
      "outputs": [
        {
          "output_type": "stream",
          "text": [
            "{'U': 1, 'V': 2, 'W': 2, 'X': 0, 'Y': 1, 'Z': 2}\n"
          ],
          "name": "stdout"
        }
      ]
    }
  ]
}