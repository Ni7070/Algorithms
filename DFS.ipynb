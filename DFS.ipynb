{
  "nbformat": 4,
  "nbformat_minor": 0,
  "metadata": {
    "colab": {
      "name": "DFS.ipynb",
      "provenance": [],
      "collapsed_sections": [],
      "authorship_tag": "ABX9TyPu6pok4SbDkEsYHN0Lfm9E",
      "include_colab_link": true
    },
    "kernelspec": {
      "name": "python3",
      "display_name": "Python 3"
    },
    "language_info": {
      "name": "python"
    }
  },
  "cells": [
    {
      "cell_type": "markdown",
      "metadata": {
        "id": "view-in-github",
        "colab_type": "text"
      },
      "source": [
        "<a href=\"https://colab.research.google.com/github/Ni7070/Algorithms/blob/master/DFS.ipynb\" target=\"_parent\"><img src=\"https://colab.research.google.com/assets/colab-badge.svg\" alt=\"Open In Colab\"/></a>"
      ]
    },
    {
      "cell_type": "code",
      "metadata": {
        "colab": {
          "base_uri": "https://localhost:8080/"
        },
        "id": "mOZwHa4VPRf9",
        "outputId": "d0ceb805-31ec-4b11-989a-e6139f443458"
      },
      "source": [
        "import collections as c\n",
        "\n",
        "def DFS(graph, startNode):\n",
        "  visited = set()              # initiate empty set\n",
        "  f = []                             # initiate deque,\n",
        "  stack = c.deque([startNode])       # its speciality is that, it can be popped/appended from both sides\n",
        "  visited.add(startNode)       # put the starting node in the visited set\n",
        "\n",
        "  print(\"DFS : \")\n",
        "  while len(stack) != 0:                  #not empty\n",
        "    #pop the current node from queue\n",
        "    currentNode  = stack.pop()\n",
        "    # print(str(currentNode) + \" \")\n",
        "    f.append(currentNode)\n",
        "\n",
        "    visited.add(currentNode)\n",
        "\n",
        "    adj = graph[currentNode]\n",
        "\n",
        "    for i in reversed(range(len(adj))):     # for an adjacent node in that current exploring node\n",
        "      if adj[i] not in visited:           # if an adjacent node is not visited\n",
        "        visited.add(adj[i])               # mark that node as visited\n",
        "        stack.append(adj[i])              # append that node to explore later\n",
        "    # print(\"V: \",visited)\n",
        "    # print(\"s: \",stack)\n",
        "        \n",
        "  \n",
        "  print(f)\n",
        "if __name__ == '__main__':\n",
        "    graph1 = {1: [2, 3], 2: [4, 5], 3: [6, 7, 8], 4: [], 5:[6], 6:[], 7:[], 8:[]}\n",
        "    graph2 = {\n",
        "    'A' : ['B','S'],\n",
        "    'B' : ['A'],\n",
        "    'C' : ['D','E','F','S'],\n",
        "    'D' : ['C'],\n",
        "    'E' : ['C','H'],\n",
        "    'F' : ['C','G'],\n",
        "    'G' : ['F','S'],\n",
        "    'H' : ['E','G'],\n",
        "    'S' : ['A','C','G']\n",
        "    }\n",
        "    \n",
        "    graph3= {'A': ['B', 'S'], 'B': [], 'S': ['C', 'G'], 'C': ['D', 'E', 'F'], 'G':['F', 'H'], 'D': [], 'E':['H'], 'F':[], 'H': []}\n",
        "    graph4= {0: [1, 2, 3], 1: [2], 2: [4], 3: [], 4:[]}\n",
        "    print(\"Following is Breadth First Traversal: \")\n",
        "    DFS(graph1, 1)\n",
        "    DFS(graph2, 'A')\n",
        "    DFS(graph3, 'A')\n",
        "    DFS(graph4, 0)"
      ],
      "execution_count": null,
      "outputs": [
        {
          "output_type": "stream",
          "text": [
            "Following is Breadth First Traversal: \n",
            "DFS : \n",
            "[1, 2, 4, 5, 6, 3, 7, 8]\n",
            "DFS : \n",
            "['A', 'B', 'S', 'C', 'D', 'E', 'H', 'F', 'G']\n",
            "DFS : \n",
            "['A', 'B', 'S', 'C', 'D', 'E', 'H', 'F', 'G']\n",
            "DFS : \n",
            "[0, 1, 2, 4, 3]\n"
          ],
          "name": "stdout"
        }
      ]
    },
    {
      "cell_type": "code",
      "metadata": {
        "colab": {
          "base_uri": "https://localhost:8080/"
        },
        "id": "P0nixjY3S2mv",
        "outputId": "ebc31329-4df7-404e-bf09-edf76d2404e9"
      },
      "source": [
        "graph1 = {\n",
        "    'A' : ['B','S'],\n",
        "    'B' : ['A'],\n",
        "    'C' : ['D','E','F','S'],\n",
        "    'D' : ['C'],\n",
        "    'E' : ['C','H'],\n",
        "    'F' : ['C','G'],\n",
        "    'G' : ['F','S'],\n",
        "    'H' : ['E','G'],\n",
        "    'S' : ['A','C','G']\n",
        "}\n",
        "\n",
        "visited = []\n",
        "\n",
        "def dfs(graph,node):\n",
        "    global visited\n",
        "    if node not in visited:\n",
        "        visited.append(node)\n",
        "        for n in graph[node]:\n",
        "            dfs(graph,n)\n",
        "\n",
        "dfs(graph1,'A')\n",
        "print(visited)"
      ],
      "execution_count": null,
      "outputs": [
        {
          "output_type": "stream",
          "text": [
            "['A', 'B', 'S', 'C', 'D', 'E', 'H', 'G', 'F']\n"
          ],
          "name": "stdout"
        }
      ]
    }
  ]
}