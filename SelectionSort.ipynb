{
  "nbformat": 4,
  "nbformat_minor": 0,
  "metadata": {
    "colab": {
      "name": "SelectionSort.ipynb",
      "provenance": [],
      "authorship_tag": "ABX9TyNLEXLCA+VsAqe3PqpPDI8q",
      "include_colab_link": true
    },
    "kernelspec": {
      "name": "python3",
      "display_name": "Python 3"
    },
    "language_info": {
      "name": "python"
    }
  },
  "cells": [
    {
      "cell_type": "markdown",
      "metadata": {
        "id": "view-in-github",
        "colab_type": "text"
      },
      "source": [
        "<a href=\"https://colab.research.google.com/github/Ni7070/Algorithms/blob/master/SelectionSort.ipynb\" target=\"_parent\"><img src=\"https://colab.research.google.com/assets/colab-badge.svg\" alt=\"Open In Colab\"/></a>"
      ]
    },
    {
      "cell_type": "markdown",
      "metadata": {
        "id": "bOphSo7zChUF"
      },
      "source": [
        "# **Selectiontion Sort**\n",
        "\n",
        "> **USES:**\n",
        ">>Used in where needed put larger things before smaller<br>\n",
        ">> Small list.<br>\n",
        "\n",
        "\n",
        "\n",
        "> **STRENGTHS:**\n",
        ">>Space efficient.<br>\n",
        ">>Efficient for small data<br>\n",
        "\n",
        "\n",
        "\n",
        "> **WEAKNESS:**\n",
        ">> The primary disadvantage of the selection sort is its poor efficiency when dealing with a huge list of items.<br>\n",
        ">> Even Quick Sort is much more efficient than selection sort<br\n",
        ">>Slow, even if list is sorted<br>\n",
        "\n",
        "**COMPLEXITY**\n",
        "\n",
        "| Case        | When|Complexity  |\n",
        "| :-----------: | :---------: | :-----------: |\n",
        "|Worst Case [Big O]  |Array is already sorted| $O(n^2)$    |\n",
        "|Best Case   [Big omega] |Array is reversely sorted| $O(n^2)$       |\n",
        "|Average Case [Big Theta]|Some sorted, some unsorted|   $O(n^2)$  |\n",
        "|Space        |in-place sorting algo, no additional temporary storage is required |  $O(1)$     |\n",
        "\n",
        "**Analysis**\n",
        "\n",
        ">list : [64 25 12 22 11]\n",
        "\n",
        "| Sorted sublist        | Unsorted sublist|least element in unsorted list  |\n",
        "| :-----------: | :---------: | :-----------: |\n",
        "|() |(11, 25, 12, 22, 64)| 11 |\n",
        "|(11) |(25, 12, 22, 64)\t| \t12       |\n",
        "|(11, 12)|(25, 22, 64)\t|   22  |\n",
        "|(11, 12, 22)        |(25, 64)|  25     |\n",
        "|(11, 12, 22, 25)|(64)\t|64|\n",
        "|(11, 12, 22, 25, 64)|()|-|\n",
        "\n",
        "**Working Principle**\n",
        "\n",
        "* Step 1 − Set MIN to location 0\n",
        "* Step 2 − Search the minimum element in the list\n",
        "* Step 3 − Swap with value at location MIN\n",
        "* Step 4 − Increment MIN to point to next element\n",
        "* Step 5 − Repeat until list is sorted\n",
        "\n",
        "\n",
        "\n",
        "`ALGORITHM`\n",
        "\n",
        "\n",
        "\n",
        "```\n",
        "arr[] = 64 25 12 22 11\n",
        "\n",
        " Find the minimum element in arr[0...4]\n",
        " and place it at beginning\n",
        ">> 11 25 12 22 64\n",
        "\n",
        " Find the minimum element in arr[1...4]\n",
        " and place it at beginning of arr[1...4]\n",
        ">> 11 12 25 22 64\n",
        "\n",
        " Find the minimum element in arr[2...4]\n",
        " and place it at beginning of arr[2...4]\n",
        ">> 11 12 22 25 64\n",
        "\n",
        " Find the minimum element in arr[3...4]\n",
        " and place it at beginning of arr[3...4]\n",
        ">> 11 12 22 25 64 \n",
        "\n",
        "```\n",
        "\n",
        "\n",
        "\n"
      ]
    },
    {
      "cell_type": "code",
      "metadata": {
        "colab": {
          "base_uri": "https://localhost:8080/"
        },
        "id": "Kxy354Pu8ilf",
        "outputId": "4d0bdcc8-2611-45f4-c47a-c75a72ccb295"
      },
      "source": [
        "def SelectionSort(A):\n",
        "  for i in range(len(A)-2):\n",
        "    min_idx = i\n",
        "    for j in range(i+1, len(A)):\n",
        "      if A[min_idx] > A[j]:\n",
        "        min_idx = j                       # to find the index of the minimum number in the array\n",
        "    A[min_idx], A[i] = A[i], A[min_idx]   # swap that element with the element of the min index\n",
        "    print(\"Simulation: \", A)\n",
        "  print('--------------------------------')\n",
        "  print(\"Output :\", A)\n",
        "\n",
        "\n",
        "\n",
        "if __name__ == '__main__':\n",
        "    Array = [7, 2, 4, 1, 5, 3]\n",
        "    print(\"Selection Sorted on: \", Array)\n",
        "    SelectionSort(Array)"
      ],
      "execution_count": 11,
      "outputs": [
        {
          "output_type": "stream",
          "text": [
            "Selection Sorted on:  [7, 2, 4, 1, 5, 3]\n",
            "Simulation:  [1, 2, 4, 7, 5, 3]\n",
            "Simulation:  [1, 2, 4, 7, 5, 3]\n",
            "Simulation:  [1, 2, 3, 7, 5, 4]\n",
            "Simulation:  [1, 2, 3, 4, 5, 7]\n",
            "--------------------------------\n",
            "Output : [1, 2, 3, 4, 5, 7]\n"
          ],
          "name": "stdout"
        }
      ]
    }
  ]
}