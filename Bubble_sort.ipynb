{
  "nbformat": 4,
  "nbformat_minor": 0,
  "metadata": {
    "colab": {
      "name": "Bubble sort.ipynb",
      "provenance": [],
      "authorship_tag": "ABX9TyMxXV1NXxXJgN1WhPhfNyxM",
      "include_colab_link": true
    },
    "kernelspec": {
      "name": "python3",
      "display_name": "Python 3"
    },
    "language_info": {
      "name": "python"
    }
  },
  "cells": [
    {
      "cell_type": "markdown",
      "metadata": {
        "id": "view-in-github",
        "colab_type": "text"
      },
      "source": [
        "<a href=\"https://colab.research.google.com/github/Ni7070/Algorithms/blob/master/Bubble_sort.ipynb\" target=\"_parent\"><img src=\"https://colab.research.google.com/assets/colab-badge.svg\" alt=\"Open In Colab\"/></a>"
      ]
    },
    {
      "cell_type": "markdown",
      "metadata": {
        "id": "JLN4xKaAwjRL"
      },
      "source": [
        "# **Bubble Sort:**\n",
        "\n",
        "It is a simple algorithm which is used to sort a given set of n elements provided in form of an array with n number of elements. Bubble Sort compares all the element one by one and sort them based on their values.\n",
        "\n",
        "---\n",
        "\n",
        "\n",
        "The **time complexity** of Bubble Sort is $O(n^2)$\n",
        "\n",
        "* *Best Case*: When the numbers are already sorted in the list [Big-omega]: $O(n)$ \n",
        "* *Worst Case*: When the number are sorted in the reverse order, or all numbers are unordered. [ Big-O ]: $O(n^2)$\n",
        "* *Average Case*: [Big-theta]: $O(n^2)$\n",
        "\n",
        "* *Space Complexity*: $O(1)$ , because only a single additional memory space is required i.e. for $temp$ variable.\n",
        "\n",
        "\n",
        "\n",
        "> Steps:\n",
        "\n",
        "\n",
        "1.   Starting with the first element(index = 0), compare the current element with the next element of the array.\n",
        "2.  If the current element is greater than the next element of the array, swap them.\n",
        "3.  If the current element is less than the next element, move to the next element. Repeat Step 1.\n",
        "\n"
      ]
    },
    {
      "cell_type": "code",
      "metadata": {
        "colab": {
          "base_uri": "https://localhost:8080/"
        },
        "id": "i3k-VVmxn_2U",
        "outputId": "818a22f6-d426-4470-a368-3299fc05f340"
      },
      "source": [
        "from typing import List\n",
        "class BubbleSortFromList:\n",
        "    def BubbleSort(self, nums: List[int]):\n",
        "      for j in range(len(nums)):\n",
        "        for i in range(len(nums)-j-1):\n",
        "          if nums[i]>nums[i+1]:\n",
        "            temp = nums[i]\n",
        "            nums[i] = nums[i+1]\n",
        "            nums[i+1] = temp\n",
        "        print('Simuation:',nums)\n",
        "      print(\"--------------------- \\n\")\n",
        "      return nums\n",
        "\n",
        "\n",
        "if __name__ == '__main__':\n",
        "    r = BubbleSortFromList()\n",
        "    \n",
        "    print(\"Bubble sorted :\", r.BubbleSort([-2, 45, 0, 11, -9]))\n",
        "    print(\"======================== \\n\")\n",
        "    print(\"Bubble sorted :\", r.BubbleSort([5, 1, 6, 2, 4, 3]))"
      ],
      "execution_count": 20,
      "outputs": [
        {
          "output_type": "stream",
          "text": [
            "Simuation: [-2, 0, 11, -9, 45]\n",
            "Simuation: [-2, 0, -9, 11, 45]\n",
            "Simuation: [-2, -9, 0, 11, 45]\n",
            "Simuation: [-9, -2, 0, 11, 45]\n",
            "Simuation: [-9, -2, 0, 11, 45]\n",
            "--------------------- \n",
            "\n",
            "Bubble sorted : [-9, -2, 0, 11, 45]\n",
            "======================== \n",
            "\n",
            "Simuation: [1, 5, 2, 4, 3, 6]\n",
            "Simuation: [1, 2, 4, 3, 5, 6]\n",
            "Simuation: [1, 2, 3, 4, 5, 6]\n",
            "Simuation: [1, 2, 3, 4, 5, 6]\n",
            "Simuation: [1, 2, 3, 4, 5, 6]\n",
            "Simuation: [1, 2, 3, 4, 5, 6]\n",
            "--------------------- \n",
            "\n",
            "Bubble sorted : [1, 2, 3, 4, 5, 6]\n"
          ],
          "name": "stdout"
        }
      ]
    }
  ]
}